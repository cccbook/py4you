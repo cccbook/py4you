:
 "cells": [
  :
   "cell_type": "code",
   "execution_count": 1,
   "metadata": :,
   "outputs": [
    :
     "data": :
      "text/plain": [
       "8"
      ]
     ,
     "execution_count": 1,
     "metadata": :,
     "output_type": "execute_result"
    
   ],
   "source": [
    "x=3\n",
    "y=5\n",
    "x+y\n"
   ]
  ,
  :
   "cell_type": "code",
   "execution_count": 2,
   "metadata": :,
   "outputs": [
    :
     "name": "stdout",
     "output_type": "stream",
     "text": [
      "(array([1.13027756+0.j, 0.76972244+0.j]), array([[ 0.91724574,  0.79325185],\n",
      "       [-0.3983218 ,  0.60889368]]))\n"
     ]
    
   ],
   "source": [
    "import numpy as np\n",
    "from scipy import linalg\n",
    "A = np.array([[1, -0.3], [-0.1, 0.9]])\n",
    "print(linalg.eig(A))"
   ]
  ,
  :
   "cell_type": "code",
   "execution_count": null,
   "metadata": :,
   "outputs": [],
   "source": [
    "from statistics import *\n",
    "mean([1, 2, 3, 4, 4])\n",
    "\n"
   ]
  
 ],
 "metadata": :
  "kernelspec": :
   "display_name": "Python 3",
   "language": "python",
   "name": "python3"
  ,
  "language_info": :
   "codemirror_mode": :
    "name": "ipython",
    "version": 3
   ,
   "file_extension": ".py",
   "mimetype": "text/x-python",
   "name": "python",
   "nbconvert_exporter": "python",
   "pygments_lexer": "ipython3",
   "version": "3.7.6"
  
 ,
 "nbformat": 4,
 "nbformat_minor": 4

